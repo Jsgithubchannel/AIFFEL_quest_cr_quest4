{
  "nbformat": 4,
  "nbformat_minor": 0,
  "metadata": {
    "colab": {
      "provenance": [],
      "include_colab_link": true
    },
    "kernelspec": {
      "name": "python3",
      "display_name": "Python 3"
    },
    "language_info": {
      "name": "python"
    }
  },
  "cells": [
    {
      "cell_type": "markdown",
      "metadata": {
        "id": "view-in-github",
        "colab_type": "text"
      },
      "source": [
        "<a href=\"https://colab.research.google.com/github/YunhwanJacobLee/AIFFEL_quest_cr/blob/main/Python/Quest_01/test.ipynb\" target=\"_parent\"><img src=\"https://colab.research.google.com/assets/colab-badge.svg\" alt=\"Open In Colab\"/></a>"
      ]
    },
    {
      "cell_type": "code",
      "source": [
        "# 단어 입력 받기\n",
        "word =input(\"입력값: \\n\")\n",
        "\n",
        "# 입력 받은 단어 회문으로 만들기\n",
        "word2 = \"\".join(reversed(word)) # word[::-1]도 실행 가능\n",
        "\n",
        "# 제어문 사용\n",
        "if word == word2:\n",
        "  print(\"\\n출력값: \")\n",
        "  print(f'뒤집힌 단어는: {word} 입니다')\n",
        "  print('입력된 단어는 회문입니다.')"
      ],
      "metadata": {
        "id": "YRCIkFlbmIf2",
        "colab": {
          "base_uri": "https://localhost:8080/"
        },
        "outputId": "1e841f94-0f80-4c69-b331-6f21947046a3"
      },
      "execution_count": 21,
      "outputs": [
        {
          "output_type": "stream",
          "name": "stdout",
          "text": [
            "입력값: \n",
            "우영우\n",
            "\n",
            "출력값: \n",
            "뒤집힌 단어는: 우영우 입니다\n",
            "입력된 단어는 회문입니다.\n"
          ]
        }
      ]
    }
  ]
}