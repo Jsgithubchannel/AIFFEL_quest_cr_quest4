{
  "nbformat": 4,
  "nbformat_minor": 0,
  "metadata": {
    "colab": {
      "provenance": [],
      "include_colab_link": true
    },
    "kernelspec": {
      "name": "python3",
      "display_name": "Python 3"
    },
    "language_info": {
      "name": "python"
    }
  },
  "cells": [
    {
      "cell_type": "markdown",
      "metadata": {
        "id": "view-in-github",
        "colab_type": "text"
      },
      "source": [
        "<a href=\"https://colab.research.google.com/github/YunhwanJacobLee/AIFFEL_quest_cr/blob/main/Python/Quest_01/python_Q1.ipynb\" target=\"_parent\"><img src=\"https://colab.research.google.com/assets/colab-badge.svg\" alt=\"Open In Colab\"/></a>"
      ]
    },
    {
      "cell_type": "markdown",
      "source": [
        "<Python Quest01 회고>\n",
        "이윤환   \n",
        "배운점: 문자열, 배열 뒤집기에 대한 다양한 방법에 대해 배웠고, 각 방법들의 특징과 장단점에 대해서 알게 되었다.      \n",
        "느낀점: 학습하면서 봤던 것들이 직접 적용할 때에 또 다른 영역과 같이 느껴졌다. 하나 하나 꼼꼼하게 학습이 필요할 것 같다. 특히 드라이버와 네비게이터 역활을 수행하면서 안에 있는 것을 다시 정립할 수 있었고, 그루와의 생각 공유를 통해 사고가 확장되는 것 같다."
      ],
      "metadata": {
        "id": "XhBfhE1t5ekG"
      }
    },
    {
      "cell_type": "markdown",
      "source": [
        "<Python Quest01 회고> 김선\n",
        "배운점 : 하나의 결과를 도출하기 위해 여러가지 방법이 있다는 것을 느낄 수 있었다.\n",
        "그루와의 대화를 통해 내가 미처 생각하지 못했던 부분과 잔 실수를 바로잡을 수 있어서 도움이 많이 되었다."
      ],
      "metadata": {
        "id": "SphtTVL759AO"
      }
    },
    {
      "cell_type": "code",
      "source": [
        "# 단어 입력 받기\n",
        "word =input(\"입력값: \\n\")\n",
        "\n",
        "# 입력 받은 단어 회문으로 만들기\n",
        "word2 = \"\".join(reversed(word)) # word[::-1]도 실행 가능\n",
        "\n",
        "# 제어문 사용\n",
        "if word == word2:\n",
        "  print(\"\\n출력값: \")\n",
        "  print(f'뒤집힌 단어는: {word} 입니다')\n",
        "  print('입력된 단어는 회문입니다.')"
      ],
      "metadata": {
        "id": "YRCIkFlbmIf2",
        "colab": {
          "base_uri": "https://localhost:8080/"
        },
        "outputId": "1e841f94-0f80-4c69-b331-6f21947046a3"
      },
      "execution_count": null,
      "outputs": [
        {
          "output_type": "stream",
          "name": "stdout",
          "text": [
            "입력값: \n",
            "우영우\n",
            "\n",
            "출력값: \n",
            "뒤집힌 단어는: 우영우 입니다\n",
            "입력된 단어는 회문입니다.\n"
          ]
        }
      ]
    },
    {
      "cell_type": "code",
      "source": [
        "while True:\n",
        "  word_input =input(\"입력값: \\n\")\n",
        "  re_word = word_input[::-1]\n",
        "  if word_input != re_word:\n",
        "    print(f\"{word_input}은 회문이 아닙니다. 다시 입력하세요\")\n",
        "    continue\n",
        "  elif word_input == re_word:\n",
        "    print(f'출력값 :\\n뒤집힌 단어는: {word_input} 입니다.\\n입력된 단어는 회문입니다.')\n",
        "    break"
      ],
      "metadata": {
        "colab": {
          "base_uri": "https://localhost:8080/"
        },
        "id": "dkUYjQwM3NnI",
        "outputId": "18b53134-605e-45e8-c1c9-d0ccd0dbcbd3"
      },
      "execution_count": null,
      "outputs": [
        {
          "output_type": "stream",
          "name": "stdout",
          "text": [
            "입력값: \n",
            "우영우\n",
            "출력값 :\n",
            "뒤집힌 단어는: 우영우 입니다.\n",
            "입력된 단어는 회문입니다.\n"
          ]
        }
      ]
    }
  ]
}