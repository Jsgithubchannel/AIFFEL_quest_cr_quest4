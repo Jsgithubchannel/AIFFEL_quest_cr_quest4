{
  "nbformat": 4,
  "nbformat_minor": 0,
  "metadata": {
    "colab": {
      "provenance": [],
      "include_colab_link": true
    },
    "kernelspec": {
      "name": "python3",
      "display_name": "Python 3"
    },
    "language_info": {
      "name": "python"
    }
  },
  "cells": [
    {
      "cell_type": "markdown",
      "metadata": {
        "id": "view-in-github",
        "colab_type": "text"
      },
      "source": [
        "<a href=\"https://colab.research.google.com/github/YunhwanJacobLee/AIFFEL_quest_cr/blob/main/Python/Quest_02/Python_Quest2.ipynb\" target=\"_parent\"><img src=\"https://colab.research.google.com/assets/colab-badge.svg\" alt=\"Open In Colab\"/></a>"
      ]
    },
    {
      "cell_type": "code",
      "execution_count": 51,
      "metadata": {
        "colab": {
          "base_uri": "https://localhost:8080/"
        },
        "id": "J2ajyzrUykMW",
        "outputId": "9a7962cd-a5e1-42ee-de0e-c5172813165e"
      },
      "outputs": [
        {
          "output_type": "stream",
          "name": "stdout",
          "text": [
            "Drive already mounted at /content/drive; to attempt to forcibly remount, call drive.mount(\"/content/drive\", force_remount=True).\n"
          ]
        }
      ],
      "source": [
        "from google.colab import drive\n",
        "drive.mount('/content/drive')\n",
        "\n",
        "data_dir = '/content/drive/MyDrive/Colab Notebooks/AIFFEL/AIFEEL_cr/Avengers.txt'\n"
      ]
    },
    {
      "cell_type": "code",
      "source": [
        "with open(data_dir, 'r', encoding='utf-8') as file:\n",
        "    content = file.read()\n",
        "\n",
        "# 파일 내용 출력\n",
        "print(content)"
      ],
      "metadata": {
        "collapsed": true,
        "id": "c31ku7iC4gkJ"
      },
      "execution_count": null,
      "outputs": []
    },
    {
      "cell_type": "code",
      "source": [
        "import re\n",
        "\n",
        "# 1. 모든 문자를 소문자로 변환\n",
        "lower_text = content.lower()\n",
        "\n",
        "# 2. 모든 기호 제거\n",
        "cleaned_text = re.sub(r'[^\\w\\s]', '', lower_text) # 줄바꿈(\\n) 삭제 필요한지? => 필요 없을 듯.\n",
        "\n",
        "# 3. 단어 단위로 분리\n",
        "split_word = cleaned_text.split()\n",
        "\n",
        "# 4. 빈도수 계산\n",
        "word_count = {} # 빈 딕셔너리 생성\n",
        "\n",
        "for i in split_word:\n",
        "  if i in word_count:\n",
        "    word_count[i] += 1\n",
        "  else:\n",
        "    word_count[i] = 1\n",
        "\n",
        "# 5. 내림차순\n",
        "# 오류 sorted_word = dict(sorted(word_count.items(), reverse = True)) # sorted는 key 기준으로 내림차순\n",
        "sorted_word = dict(sorted(word_count.items(), key=lambda x: x[1], reverse = True))\n",
        "\n",
        "# 6. 인덱스 설정\n",
        "indexed_keys = {key: idx for idx, key in enumerate(sorted_word.keys(), start=1)}\n",
        "print(type(indexed_keys))\n",
        "# 7. input 입력 받아 returen\n",
        "def find_word_index(indexed_keys):\n",
        "    # 사용자로부터 단어 입력 받기\n",
        "    new_word = input(\"새로운 단어를 입력하세요: \").strip().lower() # split()만 사용해서 실행했을 때 list 형태로 입력받게 되어 위에서 dict으로 작업과 처리가 안되었음.\n",
        "    new_split_word = new_word.split()\n",
        "\n",
        "    # indexed_keys(6번)-dict != new_split_word(입력값)-list\n",
        "\n",
        "    results = []\n",
        "\n",
        "    for word in new_split_word:\n",
        "      if word in indexed_keys:\n",
        "        results.append(f\"단어 '{word}'의 인덱스는 {indexed_keys[word]}입니다.\")\n",
        "      else:\n",
        "        results.append(f\"단어 '{word}'는 기존 목록에 없습니다.\")\n",
        "    return results\n",
        "\n",
        "find_word_index(indexed_keys)\n",
        "\n",
        "#회고\n",
        "# 문장에서 i'm 과 같은 것이 im 으로 묶여서 인덱스 번호 부여가 달라진 것을 확인함. 기존 txt 파일 처리에서 꼼꼼하게 할 필요가 있음.\n",
        "# split()만 사용해 보았느데"
      ],
      "metadata": {
        "colab": {
          "base_uri": "https://localhost:8080/"
        },
        "id": "O5cmbHRN6IY7",
        "outputId": "15d28ef6-8711-4fad-a16e-827e0eb3dff8",
        "collapsed": true
      },
      "execution_count": 95,
      "outputs": [
        {
          "name": "stdout",
          "output_type": "stream",
          "text": [
            "<class 'dict'>\n",
            "새로운 단어를 입력하세요: i am a boy\n"
          ]
        },
        {
          "output_type": "execute_result",
          "data": {
            "text/plain": [
              "[\"단어 'i'의 인덱스는 3입니다.\",\n",
              " \"단어 'am'의 인덱스는 132입니다.\",\n",
              " \"단어 'a'의 인덱스는 4입니다.\",\n",
              " \"단어 'boy'의 인덱스는 550입니다.\"]"
            ]
          },
          "metadata": {},
          "execution_count": 95
        }
      ]
    },
    {
      "cell_type": "code",
      "source": [],
      "metadata": {
        "id": "1fZ3gD851FNt"
      },
      "execution_count": null,
      "outputs": []
    }
  ]
}