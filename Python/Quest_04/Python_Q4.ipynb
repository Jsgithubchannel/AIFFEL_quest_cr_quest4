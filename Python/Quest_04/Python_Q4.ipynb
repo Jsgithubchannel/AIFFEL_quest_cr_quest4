{
  "nbformat": 4,
  "nbformat_minor": 0,
  "metadata": {
    "colab": {
      "provenance": [],
      "authorship_tag": "ABX9TyMmmD5BaTgis8xgILmRsaXS",
      "include_colab_link": true
    },
    "kernelspec": {
      "name": "python3",
      "display_name": "Python 3"
    },
    "language_info": {
      "name": "python"
    }
  },
  "cells": [
    {
      "cell_type": "markdown",
      "metadata": {
        "id": "view-in-github",
        "colab_type": "text"
      },
      "source": [
        "<a href=\"https://colab.research.google.com/github/YunhwanJacobLee/AIFFEL_quest_cr/blob/main/Python/Quest_04/Python_Q4.ipynb\" target=\"_parent\"><img src=\"https://colab.research.google.com/assets/colab-badge.svg\" alt=\"Open In Colab\"/></a>"
      ]
    },
    {
      "cell_type": "markdown",
      "source": [
        "### [QUEST 04] 파이썬을 사용하여 간단한 계산기 프로그램 만들기"
      ],
      "metadata": {
        "id": "jwiLPGPtzGUF"
      }
    },
    {
      "cell_type": "markdown",
      "source": [
        "사용자로부터 두 개의 정수와 연산자(+,-,,/,*)를 입력받아 계산 결과를 출력하는 프로그램을 만들어주세요\n",
        "\n",
        "조건\n",
        "-사용자가 입력한 값이 정수가 아닌 경우 ValueError를 처리하여 적절한 오류 메시지를 출력해야 합니다.\n",
        "\n",
        "-정수가 입력될 때 까지 “잘못된 입력입니다. 정수를 입력해주세요.”를 출력하며 다시 입력받기를 시도합니다.\n",
        "\n",
        "-나눗셈 연산 시 두 번째 정수가 0인 경우 ZeroDivisionError를 처리하여 적절한 오류 메시지를 출력합니다.\n",
        "\n",
        "-사용자가 지원하지 않는 연산자를 입력한 경우 적절한 오류 메시지를 출력합니다.\n",
        "\n",
        "-math 모듈을 사용하여 제곱 연산(**)을 지원합니다\n",
        "\n",
        "-계산기를 통해 계속 계산을 할 것인지 입력받습니다."
      ],
      "metadata": {
        "id": "6Xgt7mdhzG63"
      }
    },
    {
      "cell_type": "code",
      "source": [
        "# 사용자로부터 두 개의 정수와 연산자(+,-,,/,*)를 입력받아 계산 결과를 출력하는 프로그램을 만들어주세요\n",
        "\n",
        "import math\n",
        "\n",
        "while True:\n",
        "  try:\n",
        "    ## 사용자 입력\n",
        "    user_input = input(\"두 개의 정수와 연산자(+,-,,/,*)를 입력해주세요. (예: 10 + 10), (종료: 'exit'입력)\")\n",
        "    # 처음에 int(input())사용했었는데 (연산자 떄문에) 불가능 해서 input을 그대로 받아 밑에 연산자 계산에서 int로 변환\n",
        "\n",
        "    if user_input.lower() == 'exit':\n",
        "      print(\"프로그램을 종료합니다.\")\n",
        "      break\n",
        "\n",
        "    ## 입력값을 정수로 변환(사용자가 지원하지 않는 연산자를 입력한 경우 적절한 오류 메시지를 출력합니다.)\n",
        "    num1, operator, num2 = user_input.split()\n",
        "    # 한번에 숫자, 문자, 숫자로 나눌 수 있는 방법을 알게 되어서 좋았다.(이러한 형태를 처리하는 방법을 처음 배웠음)\n",
        "\n",
        "    # 입력값이 (10 + 10)형태이기 때문에 operator라는 변수 생성\n",
        "    num1 = int(num1)\n",
        "    num2 = int(num2)\n",
        "\n",
        "    ## 연산 수행\n",
        "    if operator == '+':\n",
        "      result = num1 + num2\n",
        "    elif operator == '-':\n",
        "      result = num1 - num2\n",
        "    elif operator == '*':\n",
        "      result = num1 * num2\n",
        "    elif operator == '/':\n",
        "      # 나눗셈 연산 시 두 번째 정수가 0인 경우 ZeroDivisionError를 처리하여 적절한 오류 메시지를 출력합니다.\n",
        "      if num2 == 0:\n",
        "        raise ZeroDivisionError(\"0으로 나눌 수 없습니다.\")\n",
        "      result = num1 / num2\n",
        "    # math 모듈을 사용하여 제곱 연산(**)을 지원합니다.\n",
        "    elif operator == '**':\n",
        "      result = math.pow(num1, num2)\n",
        "      # from math import pow를 불러와서 result = pow(num1, num2)의 방법도 있다는 것을 배움.\n",
        "\n",
        "    else:\n",
        "      print(\"유효하지 않은 연산자입니다.\")\n",
        "      continue\n",
        "      # 처음에 raise ValueError(\"유효하지 않은 연산자입니다.\")로 작성하였으나,\n",
        "      # 아래 except에서 ValueError가 중복되면 에러가 안뜨는 것을 확인하여 print와 continue로 대체함.\n",
        "\n",
        "    print(f'결과는 {result}입니다.')\n",
        "\n",
        "    # 계산기를 통해 계속 계산을 할 것인지 입력받습니다.\n",
        "    continue_input = input(\"계속 계산하시겠습니까? (yes/no): \").lower()\n",
        "    if continue_input == 'no':\n",
        "      print(\"계산기를 종료합니다.\")\n",
        "      break\n",
        "    # 입력값이 잘못 입력되었을 경우(yes/no 외)에러가 뜨고 프로그램이 종료되는 현상이 발생함. 계산이 지속할 수 있도록 수정하면 좋겠음.\n",
        "\n",
        "   # 사용자가 입력한 값이 정수가 아닌 경우 ValueError를 처리하여 적절한 오류 메시지를 출력해야 합니다.\n",
        "   # 정수가 입력될 때 까지 “잘못된 입력입니다. 정수를 입력해주세요.”를 출력하며 다시 입력받기를 시도합니다.\n",
        "  except:\n",
        "    raise ValueError(\"잘못된 입력입니다. 정수를 입력해주세요.\")\n",
        "    # 에러가 뜨면 프로그램 전체 중단되는데, 바로 다시 입력할 수 있도록 만들어도 좋을 듯\n",
        "    # 다시 입력받기를 시도하는 것이면, try, except를 사용하지 않고도 가능한 것이 아닌지? 에러가 뜬다는 것이 실행이 중단된다는 의미로 이해했음.\n"
      ],
      "metadata": {
        "colab": {
          "base_uri": "https://localhost:8080/"
        },
        "id": "EMS80g7nzJdW",
        "outputId": "2ff5c4e2-499a-404e-8c21-78cb64581f1f"
      },
      "execution_count": 4,
      "outputs": [
        {
          "output_type": "stream",
          "name": "stdout",
          "text": [
            "두 개의 정수와 연산자(+,-,,/,*)를 입력해주세요. (예: 10 + 10), (종료: 'exit'입력)10 + 10\n",
            "결과는 20입니다.\n",
            "계속 계산하시겠습니까? (yes/no): no\n",
            "계산기를 종료합니다.\n"
          ]
        }
      ]
    },
    {
      "cell_type": "markdown",
      "source": [
        "김의훈 :    \n",
        "윤환님의 도움으로 코드를 완성할 수 있었다. 상의하면서 코딩을 하니 배우는 것이 참 많았다. 무엇을 모르는지 아는 것이 중요하다고 느꼈던 퀘스트였다.\n",
        "\n",
        "이윤환 :   \n",
        "인터넷의 도움으로 코드를 완성하였지만, 이해하기 어려운 것들이 많았다. 의훈님과 같이 의논하면서 이해하지 못하던 것들을 이해할 수 있었고, 코드에 대한 의문점들이 많이 생기는 시간들이었다.  "
      ],
      "metadata": {
        "id": "b3FjOLcV8gJl"
      }
    }
  ]
}