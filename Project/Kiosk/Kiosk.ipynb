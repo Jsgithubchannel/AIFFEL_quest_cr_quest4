{
  "nbformat": 4,
  "nbformat_minor": 0,
  "metadata": {
    "colab": {
      "provenance": [],
      "authorship_tag": "ABX9TyO6ub26X8jUeG1zW7IopWnL",
      "include_colab_link": true
    },
    "kernelspec": {
      "name": "python3",
      "display_name": "Python 3"
    },
    "language_info": {
      "name": "python"
    }
  },
  "cells": [
    {
      "cell_type": "markdown",
      "metadata": {
        "id": "view-in-github",
        "colab_type": "text"
      },
      "source": [
        "<a href=\"https://colab.research.google.com/github/YunhwanJacobLee/AIFFEL_quest_cr/blob/main/Project/Kiosk/Kiosk.ipynb\" target=\"_parent\"><img src=\"https://colab.research.google.com/assets/colab-badge.svg\" alt=\"Open In Colab\"/></a>"
      ]
    },
    {
      "cell_type": "markdown",
      "source": [
        "# 프로젝트: 내가 만든 키오스크"
      ],
      "metadata": {
        "id": "_KyfJQwt4_Q4"
      }
    },
    {
      "cell_type": "markdown",
      "source": [
        "## 1. 사각형 넓이 구하기"
      ],
      "metadata": {
        "id": "VLDho1Wu5MU9"
      }
    },
    {
      "cell_type": "code",
      "source": [
        "# 직사각형 : 가로 x 세로\n",
        "# 평행사변형 : 밑변 x 높이\n",
        "# (등변) 사다리꼴 : (밑변 + 윗변) x 높이 x 1/2"
      ],
      "metadata": {
        "id": "pZW80VAi5Fdp"
      },
      "execution_count": null,
      "outputs": []
    },
    {
      "cell_type": "code",
      "source": [
        "class Square():\n",
        "  def __init__ (self):\n",
        "    self.square = int(input(\"구하고 싶은 넓이의 사각형을 고르세요. \\n 1. 직사각형\\n 2. 평행사변형\\n 3. 사다리꼴\\n >>> \"))\n",
        "\n",
        "    if self.square == 1:\n",
        "      print(\"직사각형 함수는 rect() 입니다.\") # 직사각형 class에 rect 함수 추가\n",
        "\n",
        "    elif self.square == 2:\n",
        "      print(\"직사각형 함수는 par() 입니다.\") # 직사각형 class에 par 함수 추가\n",
        "\n",
        "    elif self.square == 3:\n",
        "      print(\"직사각형 함수는 trape() 입니다.\") # 직사각형 class에 trape 함수 추가\n",
        "\n",
        "    else:\n",
        "      print(\"1, 2, 3번 중에서 다시 입력해주세요\")\n",
        "\n",
        "  def rect(self):\n",
        "    width, vertical = map(int, input(\"가로와 세로를 입력하세요. (예: 가로, 세로)\\n >>> \").split(', '))\n",
        "    area = width * vertical\n",
        "    result = f'직사각형의 넓이는: {area}'\n",
        "    return result\n",
        "\n",
        "  def par(self):\n",
        "    bottom, height = map(int, input(\"밑변과 높이를 입력하세요. (예: 밑변, 높이)\\n >>> \").split(', '))\n",
        "    area = bottom * height\n",
        "    result = f'평행사변형의 넓이는: {area}'\n",
        "    return result\n",
        "\n",
        "  def trape(self):\n",
        "    bottom, top, height = map(int, input(\"밑변과 윗변, 그리고 높이를 입력하세요. (예: 밑변, 윗변, 높이)\\n >>> \").split(', '))\n",
        "    area = (bottom + top) * height * 1/2\n",
        "    result = f'사다리꼴의 넓이는: {area}'\n",
        "    return result\n",
        "\n",
        "\n",
        "# 가로, 세로 = map(int, input('가로, 세로를 입력하세요. (예시: 가로, 세로): ').split(', '))\n",
        "# print(가로, 세로)\n",
        "\n",
        "square1 = Square()\n",
        "square1.trape()\n"
      ],
      "metadata": {
        "colab": {
          "base_uri": "https://localhost:8080/",
          "height": 182
        },
        "id": "r8SjHGoJ5F3o",
        "outputId": "59797766-fddf-4614-c542-76b92801311f"
      },
      "execution_count": null,
      "outputs": [
        {
          "name": "stdout",
          "output_type": "stream",
          "text": [
            "구하고 싶은 넓이의 사각형을 고르세요. \n",
            " 1. 직사각형\n",
            " 2. 평행사변형\n",
            " 3. 사다리꼴\n",
            " >>> 3\n",
            "직사각형 함수는 trape() 입니다.\n",
            "밑변과 윗변, 그리고 높이를 입력하세요. (예: 밑변, 윗변, 높이)\n",
            " >>> 20, 20, 20\n"
          ]
        },
        {
          "output_type": "execute_result",
          "data": {
            "text/plain": [
              "'사다리꼴의 넓이는: 8000'"
            ],
            "application/vnd.google.colaboratory.intrinsic+json": {
              "type": "string"
            }
          },
          "metadata": {},
          "execution_count": 12
        }
      ]
    },
    {
      "cell_type": "markdown",
      "source": [
        "## 2. 키오스크 만들기"
      ],
      "metadata": {
        "id": "IUIrrWGMBZd6"
      }
    },
    {
      "cell_type": "code",
      "source": [
        "# 전체 메뉴와 가격\n",
        "menu = ['americano', 'latte', 'mocha', 'yuza_tea', 'green_tea', 'choco_latte']\n",
        "price = [2000, 3000, 3000, 2500, 2500, 3000]\n",
        "\n",
        "class Kiosk():\n",
        "  def __init__(self):\n",
        "    self.menu = menu\n",
        "    self.price = price\n",
        "    self.order_menu = [] #초기화, 아래 menu_select에 넣으면, 기존 가격이 변동됨.\n",
        "    self.order_price = []\n",
        "\n",
        "  # 메뉴판 출력\n",
        "  def menu_print(self):\n",
        "    for i in range(len(menu)):\n",
        "      print(f\"{i+1}. {self.menu[i]} : {self.price[i]} 원\")\n",
        "\n",
        "  # 매뉴 선택하기\n",
        "  def menu_select(self):\n",
        "    # 메뉴판에 있는 음료 번호로 선택\n",
        "    while True:\n",
        "      try:\n",
        "        n = int(input(\"\\n음료의 번호를 입력하세요. : \")) -1 # 실제 메뉴판 번호와 매칭하기 위해 -1을 함으(0~5로 설정.)\n",
        "        if n >= 0 and n < len(self.menu): # 실제 메뉴판 번호와 매칭\n",
        "          print(f\"\\n{n+1}. {self.menu[n]} : {self.price[n]} 원\") # 실제 메뉴판 번호와 매칭하기: (n+1번, n번째 메뉴, n번째 가격)\n",
        "          break\n",
        "        else:\n",
        "          print(\"없는 메뉴 입니다.\")\n",
        "      except ValueError:\n",
        "        print(\"숫자가 아닙니다. 유효한 숫자를 입력하세요.\")\n",
        "\n",
        "    # HOT, ICE 선택하기\n",
        "    while True:\n",
        "      try:\n",
        "        t = int(input(\"\\nHOT은 1, ICE는 2를 입력하세요. :\"))\n",
        "\n",
        "        # ICE는 추가 요금 발생\n",
        "        if t == 1:\n",
        "          self.temp = 'HOT'\n",
        "          total_price = self.price[n] # HOT은 n번째 선택 메뉴의 가격 그대로\n",
        "        elif t ==2:\n",
        "          print(\"ICE 메뉴는 500원 추가됩니다.\")\n",
        "          self.temp = 'ICE'\n",
        "          total_price = self.price[n] + 500 # ICE는 n번째 선택 메뉴의 가격 + 500원 추가\n",
        "        else:\n",
        "          print(\"\\n숫자를 잘못 입력했습니다. 1과 2 중에서 고르세요.\")\n",
        "          continue\n",
        "\n",
        "        self.order_menu.append(\" \".join([self.temp, self.menu[n]])) # 빈 리스트를 만들어서 선택 메뉴 추가(ICE or HOT 메뉴이름)\n",
        "        self.order_price.append(total_price) # 빈 리스트에 선택 음료 가격 추가\n",
        "        print(f\"\\n{self.temp} {self.menu[n]} : {total_price} 원\") # 선택한 음료 이름, 가격 출력\n",
        "        break\n",
        "\n",
        "      except ValueError:\n",
        "        print(\"숫자가 아닙니다. 유효한 숫자를 입력하세요.\")\n",
        "\n",
        "    # 메뉴 추가를 위한 반복문\n",
        "    while True:\n",
        "      try:\n",
        "        n = int(input(\"\\n추가 주문을 하시면, 음료의 번호를 입력하세요. 결제를 진행하시려면 0을 누르세요: \")) -1\n",
        "        if n >= 0 and n < len(self.menu):\n",
        "          print(f\"\\n{n+1}. {self.menu[n]} : {self.price[n]} 원\")\n",
        "\n",
        "          # HOT, ICE 선택\n",
        "          while True:\n",
        "            try:\n",
        "              t = int(input(\"\\nHOT은 1, ICE는 2를 입력하세요. :\"))\n",
        "\n",
        "              if t == 1:\n",
        "                self.temp = 'HOT'\n",
        "                total_price = self.price[n]\n",
        "              elif t == 2:\n",
        "                self.temp = 'ICE'\n",
        "                total_price = self.price[n] + 500\n",
        "                print(\"ICE 메뉴는 500원 추가됩니다.\")\n",
        "              else:\n",
        "                print(\"\\n숫자를 잘못 입력했습니다. 1과 2 중에서 고르세요.\")\n",
        "                continue\n",
        "            except ValueError:\n",
        "              print(\"숫자가 아닙니다. 유효한 숫자를 입력하세요.\")\n",
        "\n",
        "            # 추가 메뉴 및 금액도 리스트에 추가\n",
        "            self.order_menu.append(\" \".join([self.temp, self.menu[n]]))\n",
        "            self.order_price.append(total_price)\n",
        "            print(f\"\\n{self.temp} {self.menu[n]} : {total_price} 원\")\n",
        "            break\n",
        "\n",
        "        # n = input() -1 이기 때문에. 0입력하면 -1이 됨.\n",
        "        elif n == -1:\n",
        "            # print(\"주문서 확인을 해주세요: \", ''.join([[menu, price] for menu, price in zip(self.order_menu, self.order_price)])) #join은 문자열..문자열로 변환\n",
        "            print(\"\\n주문서 확인을 해주세요: \", ', '.join(f\"{menu} : {price}\" for menu, price in zip(self.order_menu, self.order_price)))\n",
        "            # print([{menu, price} for menu, price in zip(self.order_menu, self.order_price)])\n",
        "            print(f\"주문 내역은 {', '.join(self.order_menu)}입니다.\")\n",
        "            print(f\"총 금액은 {sum(self.order_price)}원 입니다.\")\n",
        "            break\n",
        "\n",
        "        else:\n",
        "          print(\"없는 메뉴 입니다.\")\n",
        "\n",
        "      except ValueError:\n",
        "        print(\"숫자가 아닙니다. 유효한 숫자를 입력하세요.\")\n",
        "\n",
        "  def payment(self):\n",
        "    while True:\n",
        "      try:\n",
        "        c = int(input(\"카드는 1번, 현금은 2번을 입력해주세요.: \"))\n",
        "        if c == 1:\n",
        "          print(\"IC카드를 방향에 맞게 꽂아주세요\")\n",
        "          break\n",
        "        elif c == 2:\n",
        "          print(\"직원을 호출합니다.\")\n",
        "\n",
        "          # 직원 호출시 현금 지불 시스템 진행\n",
        "          while True:\n",
        "            try:\n",
        "              cash = int(input(\"현금을 지불해주세요.: \"))\n",
        "              # 현금이 담은 메뉴 가격보다 크면 차액 거스름돈 지급\n",
        "              if cash >= sum(self.order_price):\n",
        "                change = cash - sum(self.order_price)\n",
        "                print(f\"받은 금액은 {cash}원 입니다. 총 가격이 {sum(self.order_price)}원 이니 거스름돈은 {change}원 입니다.\")\n",
        "                break\n",
        "\n",
        "              else:\n",
        "                # 현금 부족으로 인해 다시 돈 돌려줌.\n",
        "                print(f\"돈이 부족합니다. {cash}원 다시 돌려 드립니다.\")\n",
        "\n",
        "            except ValueError:\n",
        "              print(\"숫자가 아닙니다. 유효한 숫자를 입력하세요.\")\n",
        "          break\n",
        "        else:\n",
        "          print(\"1번이나 2번 중에서만 입력해주세요.\")\n",
        "\n",
        "      except ValueError:\n",
        "        print(\"숫자가 아닙니다. 유효한 숫자를 입력하세요.\")\n",
        "\n",
        "  def table(self):\n",
        "    print('⟝' + '-' * 30 + '⟞')\n",
        "    for i in range(5):\n",
        "      print('|' + ' ' * 31 + '|')\n",
        "\n",
        "    for i in range(len(self.order_menu)):\n",
        "      # print(\"\\n\"', '.join(f\"{menu} : {price}\"))\n",
        "      print(f\"{self.order_menu[i]} : {self.order_price[i]}\")\n",
        "\n",
        "    print(f\"총 금액 : {sum(self.order_price)}\")\n",
        "\n",
        "    # 외곽\n",
        "    for i in range(5):\n",
        "      print('|' + ' ' * 31+ '|')\n",
        "    print('⟝' + '-' * 30 + '⟞')\n",
        "\n",
        "a = Kiosk()\n",
        "a.menu_print()\n",
        "a.menu_select()\n",
        "a.payment()\n",
        "a.table()"
      ],
      "metadata": {
        "colab": {
          "base_uri": "https://localhost:8080/"
        },
        "id": "uFe2wXhY3Uxj",
        "outputId": "af164ad4-cd49-463a-e61c-68b660e6bab4"
      },
      "execution_count": 172,
      "outputs": [
        {
          "output_type": "stream",
          "name": "stdout",
          "text": [
            "1. americano : 2000 원\n",
            "2. latte : 3000 원\n",
            "3. mocha : 3000 원\n",
            "4. yuza_tea : 2500 원\n",
            "5. green_tea : 2500 원\n",
            "6. choco_latte : 3000 원\n",
            "\n",
            "음료의 번호를 입력하세요. : 1\n",
            "\n",
            "1. americano : 2000 원\n",
            "\n",
            "HOT은 1, ICE는 2를 입력하세요. :2\n",
            "ICE 메뉴는 500원 추가됩니다.\n",
            "\n",
            "ICE americano : 2500 원\n",
            "\n",
            "추가 주문을 하시면, 음료의 번호를 입력하세요. 결제를 진행하시려면 0을 누르세요: 3\n",
            "\n",
            "3. mocha : 3000 원\n",
            "\n",
            "HOT은 1, ICE는 2를 입력하세요. :1\n",
            "\n",
            "HOT mocha : 3000 원\n",
            "\n",
            "추가 주문을 하시면, 음료의 번호를 입력하세요. 결제를 진행하시려면 0을 누르세요: 6\n",
            "\n",
            "6. choco_latte : 3000 원\n",
            "\n",
            "HOT은 1, ICE는 2를 입력하세요. :1\n",
            "\n",
            "HOT choco_latte : 3000 원\n",
            "\n",
            "추가 주문을 하시면, 음료의 번호를 입력하세요. 결제를 진행하시려면 0을 누르세요: 0\n",
            "\n",
            "주문서 확인을 해주세요:  ICE americano : 2500, HOT mocha : 3000, HOT choco_latte : 3000\n",
            "주문 내역은 ICE americano, HOT mocha, HOT choco_latte입니다.\n",
            "총 금액은 8500원 입니다.\n",
            "카드는 1번, 현금은 2번을 입력해주세요.: 2\n",
            "직원을 호출합니다.\n",
            "현금을 지불해주세요.: 10000\n",
            "받은 금액은 10000원 입니다. 총 가격이 8500원 이니 거스름돈은 1500원 입니다.\n",
            "⟝------------------------------⟞\n",
            "|                               |\n",
            "|                               |\n",
            "|                               |\n",
            "|                               |\n",
            "|                               |\n",
            "ICE americano : 2500\n",
            "HOT mocha : 3000\n",
            "HOT choco_latte : 3000\n",
            "총 금액 : 8500\n",
            "|                               |\n",
            "|                               |\n",
            "|                               |\n",
            "|                               |\n",
            "|                               |\n",
            "⟝------------------------------⟞\n"
          ]
        }
      ]
    }
  ]
}